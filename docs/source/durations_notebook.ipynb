{
 "cells": [
  {
   "cell_type": "raw",
   "metadata": {
    "raw_mimetype": "text/restructuredtext"
   },
   "source": [
    "Durations\n",
    "###########################################################################\n",
    "This section shows how to use the duration functionality of Episuite. The\n",
    "main class of this module is the :class:`~episuite.durations.Durations`, that\n",
    "represents any kind of duration between events. One example is representing\n",
    "the length of stay (also known as LoS) for patients in ICU units.\n",
    "\n",
    ".. note:: In the example below, we will use a sample dataset that comes embedded\n",
    "          in Episuite with real data from the SARS-CoV-2 outbreak in south of Brazil.\n",
    "          This dataset can be accessed using the :meth:`~episuite.data.admissions_sample`\n",
    "          function from the :mod:`~episuite.data` module.\n",
    "\n",
    ".. seealso::\n",
    "\n",
    "   Module :mod:`episuite.durations`\n",
    "      Documentation of the :py:mod:`episuite.durations` module.\n",
    "      \n",
    "   Module :mod:`episuite.data`\n",
    "      Documentation of the :py:mod:`episuite.data` module.      "
   ]
  },
  {
   "cell_type": "code",
   "execution_count": null,
   "metadata": {},
   "outputs": [],
   "source": [
    "import episuite\n",
    "from matplotlib import pyplot as plt\n",
    "\n",
    "from episuite.durations import Durations\n",
    "from episuite import data"
   ]
  },
  {
   "cell_type": "markdown",
   "metadata": {},
   "source": [
    "### Load the sample data\n",
    "First we need to load a sample dataset."
   ]
  },
  {
   "cell_type": "code",
   "execution_count": null,
   "metadata": {},
   "outputs": [],
   "source": [
    "sample_data = data.admissions_sample()"
   ]
  },
  {
   "cell_type": "code",
   "execution_count": null,
   "metadata": {},
   "outputs": [],
   "source": [
    "sample_data.head()"
   ]
  },
  {
   "cell_type": "code",
   "execution_count": null,
   "metadata": {},
   "outputs": [],
   "source": [
    "sample_data.shape"
   ]
  },
  {
   "cell_type": "code",
   "execution_count": null,
   "metadata": {},
   "outputs": [],
   "source": [
    "# Here we are filtering only outcomes that were RECOVERY or DEATH.\n",
    "sample_data = sample_data[sample_data[\"OUTCOME\"].isin([\"RECOVERY\", \"DEATH\"])]"
   ]
  },
  {
   "cell_type": "markdown",
   "metadata": {},
   "source": [
    "### Build the durations object\n",
    "Here we are going to build the durations object. Please note that this class\n",
    "requires you to specify the start and end date column names. By default, it will\n",
    "assume that the columns are named **DATE_START** and **DATE_END**."
   ]
  },
  {
   "cell_type": "code",
   "execution_count": null,
   "metadata": {},
   "outputs": [],
   "source": [
    "adm = Durations(sample_data)"
   ]
  },
  {
   "cell_type": "markdown",
   "metadata": {},
   "source": [
    "### Data visualization\n",
    "The durations have a `plot` object that you can use to make visualizations of the duration distribution."
   ]
  },
  {
   "cell_type": "code",
   "execution_count": null,
   "metadata": {},
   "outputs": [],
   "source": [
    "fig = plt.figure(figsize=(7, 4))\n",
    "adm.plot.histogram()\n",
    "plt.xlim(0, 80)\n",
    "plt.show()"
   ]
  },
  {
   "cell_type": "code",
   "execution_count": null,
   "metadata": {},
   "outputs": [],
   "source": [
    "fig = plt.figure(figsize=(7, 3))\n",
    "adm.plot.histogram(hue=\"OUTCOME\")\n",
    "plt.xlim(0, 80)\n",
    "plt.show()"
   ]
  },
  {
   "cell_type": "code",
   "execution_count": null,
   "metadata": {},
   "outputs": [],
   "source": [
    "fig = plt.figure(figsize=(7, 4))\n",
    "adm.plot.density(hue=\"OUTCOME\")\n",
    "plt.xlim(0, 80)\n",
    "plt.show()"
   ]
  },
  {
   "cell_type": "markdown",
   "metadata": {},
   "source": [
    "This plot shows the average distribution per day. In this case we are computing 100 bootstrap samples to compute the default confidence interval (CI 95%)."
   ]
  },
  {
   "cell_type": "code",
   "execution_count": null,
   "metadata": {},
   "outputs": [],
   "source": [
    "fig = plt.figure(figsize=(10, 5))\n",
    "adm.plot.timeplot(n_boot=100)\n",
    "plt.show()"
   ]
  },
  {
   "cell_type": "code",
   "execution_count": null,
   "metadata": {},
   "outputs": [],
   "source": [
    "fig = plt.figure(figsize=(10, 5))\n",
    "adm.plot.timeplot(n_boot=100, hue=\"OUTCOME\")\n",
    "plt.show()"
   ]
  }
 ],
 "metadata": {
  "celltoolbar": "Raw Cell Format",
  "kernelspec": {
   "display_name": "Python 3",
   "language": "python",
   "name": "python3"
  },
  "language_info": {
   "codemirror_mode": {
    "name": "ipython",
    "version": 3
   },
   "file_extension": ".py",
   "mimetype": "text/x-python",
   "name": "python",
   "nbconvert_exporter": "python",
   "pygments_lexer": "ipython3",
   "version": "3.8.5"
  }
 },
 "nbformat": 4,
 "nbformat_minor": 4
}
