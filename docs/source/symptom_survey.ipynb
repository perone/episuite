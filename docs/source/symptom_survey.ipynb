{
 "cells": [
  {
   "source": [
    "# COVID-19 World Survey Data API\n",
    "This section shows how to use the `mobility.FacebookSymptomSurvey` functionality of Episuite."
   ],
   "cell_type": "markdown",
   "metadata": {}
  },
  {
   "cell_type": "code",
   "execution_count": null,
   "metadata": {},
   "outputs": [],
   "source": [
    "import episuite\n",
    "from matplotlib import pyplot as plt\n",
    "\n",
    "from episuite.mobility import facebook"
   ]
  },
  {
   "cell_type": "code",
   "execution_count": null,
   "metadata": {},
   "outputs": [],
   "source": [
    "client = facebook.FacebookSymptomSurvey()\n",
    "result = client.get_survey_range(\"Brazil\", \"Rio Grande do Sul\",\n",
    "                                 \"20210201\", \"20210318\")"
   ]
  },
  {
   "cell_type": "code",
   "execution_count": null,
   "metadata": {},
   "outputs": [],
   "source": [
    "result.head()"
   ]
  },
  {
   "cell_type": "code",
   "execution_count": null,
   "metadata": {},
   "outputs": [],
   "source": [
    "fig = plt.figure(figsize=(10, 4))\n",
    "client.plot_region_percent_cli(result, locator=\"day\")\n",
    "plt.show()"
   ]
  }
 ],
 "metadata": {
  "kernelspec": {
   "display_name": "Python 3",
   "language": "python",
   "name": "python3"
  },
  "language_info": {
   "codemirror_mode": {
    "name": "ipython",
    "version": 3
   },
   "file_extension": ".py",
   "mimetype": "text/x-python",
   "name": "python",
   "nbconvert_exporter": "python",
   "pygments_lexer": "ipython3",
   "version": "3.8.5-final"
  }
 },
 "nbformat": 4,
 "nbformat_minor": 4
}