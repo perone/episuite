{
 "cells": [
  {
   "cell_type": "raw",
   "metadata": {
    "raw_mimetype": "text/restructuredtext"
   },
   "source": [
    "Distributions\n",
    "###########################################################################\n",
    "This section shows how to use the distributions from Episuite.\n",
    "Distributions are one important component for simulation and modelling, in\n",
    "this example we will show how to create a bootstrap distribution from\n",
    "an empirical distribution of durations using the\n",
    ":class:`~episuite.distributions.EmpiricalBootstrap` distribution.\n",
    "\n",
    "In the example below, we will use a sample dataset that comes embedded\n",
    "in Episuite with real data from the SARS-CoV-2 outbreak in south of Brazil.\n",
    "This dataset can be accessed using the :meth:`~episuite.data.admissions_sample`\n",
    "function from the :mod:`~episuite.data` module.\n",
    "\n",
    ".. seealso::\n",
    "\n",
    "   Module :mod:`episuite.distributions`\n",
    "      Documentation of the :py:mod:`episuite.distributions` module.\n",
    "      \n",
    "   Module :mod:`episuite.data`\n",
    "      Documentation of the :py:mod:`episuite.data` module.      "
   ]
  },
  {
   "cell_type": "code",
   "execution_count": null,
   "metadata": {},
   "outputs": [],
   "source": [
    "from matplotlib import pyplot as plt\n",
    "import seaborn as sns\n",
    "\n",
    "from episuite import durations\n",
    "from episuite import distributions\n",
    "from episuite import data"
   ]
  },
  {
   "cell_type": "markdown",
   "metadata": {},
   "source": [
    "### Loading sample data"
   ]
  },
  {
   "cell_type": "code",
   "execution_count": null,
   "metadata": {},
   "outputs": [],
   "source": [
    "sample_data = data.admissions_sample()"
   ]
  },
  {
   "cell_type": "code",
   "execution_count": null,
   "metadata": {},
   "outputs": [],
   "source": [
    "sample_data.head()"
   ]
  },
  {
   "cell_type": "code",
   "execution_count": null,
   "metadata": {},
   "outputs": [],
   "source": [
    "dur = durations.Durations(sample_data)"
   ]
  },
  {
   "cell_type": "markdown",
   "metadata": {},
   "source": [
    "### Build a bootstrap distribution\n",
    "You can build a `EmpiricalBootstrap` distribution by constructing it using the durations distribution, like in the example below:"
   ]
  },
  {
   "cell_type": "code",
   "execution_count": null,
   "metadata": {},
   "outputs": [],
   "source": [
    "duration_distribution = dur.get_stay_distribution()\n",
    "duration_bootstrap = distributions.EmpiricalBootstrap(duration_distribution)"
   ]
  },
  {
   "cell_type": "markdown",
   "metadata": {},
   "source": [
    "Or you can use the method `get_bootstrap()` from the `Durations` class that will have the same effect:"
   ]
  },
  {
   "cell_type": "code",
   "execution_count": null,
   "metadata": {},
   "outputs": [],
   "source": [
    "duration_bootstrap = dur.get_bootstrap()"
   ]
  },
  {
   "cell_type": "markdown",
   "metadata": {},
   "source": [
    "### Sampling from the distribution"
   ]
  },
  {
   "cell_type": "code",
   "execution_count": null,
   "metadata": {},
   "outputs": [],
   "source": [
    "fig = plt.figure(figsize=(10, 6))\n",
    "for i in range(100):\n",
    "    sns.kdeplot(duration_bootstrap.sample(),\n",
    "                alpha=0.01, lw=0.2, cut=0,\n",
    "                color=\"green\")\n",
    "plt.xlim(0, 100)\n",
    "plt.show()"
   ]
  }
 ],
 "metadata": {
  "celltoolbar": "Raw Cell Format",
  "kernelspec": {
   "display_name": "Python 3",
   "language": "python",
   "name": "python3"
  },
  "language_info": {
   "codemirror_mode": {
    "name": "ipython",
    "version": 3
   },
   "file_extension": ".py",
   "mimetype": "text/x-python",
   "name": "python",
   "nbconvert_exporter": "python",
   "pygments_lexer": "ipython3",
   "version": "3.8.5"
  }
 },
 "nbformat": 4,
 "nbformat_minor": 4
}
